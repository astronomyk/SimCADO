{
 "cells": [
  {
   "cell_type": "code",
   "execution_count": 1,
   "metadata": {
    "collapsed": true
   },
   "outputs": [],
   "source": [
    "import numpy as np\n",
    "import matplotlib.pyplot as plt\n",
    "from matplotlib.colors import LogNorm\n",
    "%matplotlib inline\n",
    "\n",
    "from astropy.io import fits\n",
    "import simcado"
   ]
  },
  {
   "cell_type": "markdown",
   "metadata": {},
   "source": [
    "# Make a list of custom commands"
   ]
  },
  {
   "cell_type": "code",
   "execution_count": 2,
   "metadata": {
    "collapsed": true
   },
   "outputs": [],
   "source": [
    "cmd = simcado.UserCommands()\n",
    "cmd[\"INST_FILTER_TC\"] = \"Ks\"\n",
    "cmd[\"FPA_LINEARITY_CURVE\"] = None\n",
    "cmd[\"OBS_DIT\"] = 3600\n",
    "cmd[\"OBS_REMOVE_CONST_BG\"] = \"yes\"\n",
    "cmd[\"FPA_CHIP_LAYOUT\"] = \"small\""
   ]
  },
  {
   "cell_type": "markdown",
   "metadata": {},
   "source": [
    "# Read in 3 images and normalise them"
   ]
  },
  {
   "cell_type": "code",
   "execution_count": 19,
   "metadata": {
    "collapsed": true
   },
   "outputs": [],
   "source": [
    "blue = fits.getdata(\"antennae_blue.fits\")\n",
    "blue = (blue-7) / np.sum(blue)\n",
    "red  = fits.getdata(\"antennae_red.fits\")\n",
    "red = (red-20) / np.sum(red)\n",
    "ha   = fits.getdata(\"antennae_hydrogen.fits\")\n",
    "ha = (ha-23) / np.sum(ha)"
   ]
  },
  {
   "cell_type": "markdown",
   "metadata": {},
   "source": [
    "# Make 3 spectra \n",
    "B0V for the young population,  \n",
    "M0V for the old population and  \n",
    "a single PaBeta emission line for the nebula emission"
   ]
  },
  {
   "cell_type": "code",
   "execution_count": 5,
   "metadata": {
    "collapsed": false
   },
   "outputs": [],
   "source": [
    "lam, r_spec = simcado.source.SED(\"M0V\")\n",
    "lam, b_spec = simcado.source.SED(\"B0V\")\n",
    "ha_spec = np.ones(len(lam)) * 1E-3\n",
    "i = int((1.262 - lam.min()) / (lam[1] - lam[0]))\n",
    "ha_spec[i] = 1"
   ]
  },
  {
   "cell_type": "markdown",
   "metadata": {},
   "source": [
    "# Scale the spectra"
   ]
  },
  {
   "cell_type": "code",
   "execution_count": 6,
   "metadata": {
    "collapsed": false
   },
   "outputs": [],
   "source": [
    "lam, r_spec  = simcado.source.scale_spectrum(lam, r_spec, mag=17, filter_name=\"H\")\n",
    "lam, b_spec  = simcado.source.scale_spectrum(lam, b_spec, mag=17, filter_name=\"H\")\n",
    "lam, ha_spec = simcado.source.scale_spectrum(lam, ha_spec, mag=19, filter_name=\"H\")"
   ]
  },
  {
   "cell_type": "code",
   "execution_count": 23,
   "metadata": {
    "collapsed": false
   },
   "outputs": [
    {
     "data": {
      "text/plain": [
       "<matplotlib.text.Text at 0x1e1d7f5ac50>"
      ]
     },
     "execution_count": 23,
     "metadata": {},
     "output_type": "execute_result"
    },
    {
     "data": {
      "image/png": "[encoded data removed]",
      "text/plain": [
       "<matplotlib.figure.Figure at 0x1e1d891bac8>"
      ]
     },
     "metadata": {},
     "output_type": "display_data"
    }
   ],
   "source": [
    "plt.plot(lam, r_spec, lam, b_spec, lam, ha_spec)\n",
    "plt.semilogy(); plt.ylabel(\"Flux [ph/s/m2/nm]\"); plt.xlabel(\"Wavelength [um]\")"
   ]
  },
  {
   "cell_type": "markdown",
   "metadata": {},
   "source": [
    "# Combine the images with the spectra"
   ]
  },
  {
   "cell_type": "code",
   "execution_count": 8,
   "metadata": {
    "collapsed": false
   },
   "outputs": [],
   "source": [
    "src_blue = simcado.source.source_from_image(images=blue, \n",
    "                                            lam=lam, spectra=b_spec, \n",
    "                                            plate_scale=0.004)\n",
    "src_red  = simcado.source.source_from_image(images=red/np.sum(red), \n",
    "                                            lam=lam, spectra=r_spec, \n",
    "                                            plate_scale=0.004)\n",
    "src_ha   = simcado.source.source_from_image(images=ha/np.sum(ha), \n",
    "                                            lam=lam, spectra=ha_spec, \n",
    "                                            plate_scale=0.004)"
   ]
  },
  {
   "cell_type": "markdown",
   "metadata": {},
   "source": [
    "# Merge the 3 Source populations into 1 object"
   ]
  },
  {
   "cell_type": "code",
   "execution_count": 9,
   "metadata": {
    "collapsed": true
   },
   "outputs": [],
   "source": [
    "combi = src_blue + src_red + src_ha"
   ]
  },
  {
   "cell_type": "markdown",
   "metadata": {},
   "source": [
    "## For fun, make 200 background stars between K=[20, 30]"
   ]
  },
  {
   "cell_type": "code",
   "execution_count": 10,
   "metadata": {
    "collapsed": false
   },
   "outputs": [],
   "source": [
    "n_bg_stars = 100\n",
    "\n",
    "mags = np.random.normal(25, 3, n_bg_stars)\n",
    "x, y = np.random.random((2, n_bg_stars))*4-2\n",
    "spec_types = [([\"A0V\"]+[\"G2V\"]*3+[\"M5V\"]*7)[i] for i in np.random.randint(0, 10, n_bg_stars)]\n",
    "\n",
    "bg_stars = simcado.source.stars(spec_types=spec_types, mags=mags, \n",
    "                                filter_name=\"H\", x=x, y=y)"
   ]
  },
  {
   "cell_type": "markdown",
   "metadata": {},
   "source": [
    "## Put in 15 background galaxies between K=[18, 24]"
   ]
  },
  {
   "cell_type": "code",
   "execution_count": 15,
   "metadata": {
    "collapsed": false
   },
   "outputs": [
    {
     "name": "stdout",
     "output_type": "stream",
     "text": [
      "1\n",
      "4\n",
      "7\n",
      "10\n",
      "13\n"
     ]
    }
   ],
   "source": [
    "n_bg_gals = 15\n",
    "\n",
    "x, y = np.random.random((2, n_bg_gals))*4-2\n",
    "mags = np.random.normal(21, 3, n_bg_gals)\n",
    "n    = np.random.random(n_bg_gals)*4+1\n",
    "angle = np.random.random(n_bg_gals)*180\n",
    "ellip = np.random.random(n_bg_gals)\n",
    "gal_type = [simcado.source.get_SED_names()[4:7][i] for i in np.random.randint(0, 3, n_bg_gals)]\n",
    "\n",
    "bg_galaxies = simcado.source.empty_sky()\n",
    "for i in range(n_bg_gals):\n",
    "    gal = simcado.source.galaxy(1E9, 1E3, plate_scale=0.004, \n",
    "                                magnitude=mags[i], n=n[i],\n",
    "                                angle=angle[i], ellipticity=ellip[i], \n",
    "                                spectrum=gal_type[i],\n",
    "                                width=2, height=2)\n",
    "    gal.shift(x[i], y[i])\n",
    "    bg_galaxies += gal\n",
    "    if i%3 == 0: print(i+1)"
   ]
  },
  {
   "cell_type": "markdown",
   "metadata": {},
   "source": [
    "# Combine the main galaxy with the background sources"
   ]
  },
  {
   "cell_type": "code",
   "execution_count": 16,
   "metadata": {
    "collapsed": false
   },
   "outputs": [],
   "source": [
    "all_spark = bg_galaxies + combi + bg_stars"
   ]
  },
  {
   "cell_type": "code",
   "execution_count": 17,
   "metadata": {
    "collapsed": false
   },
   "outputs": [
    {
     "name": "stdout",
     "output_type": "stream",
     "text": [
      "6836.66685514\n"
     ]
    }
   ],
   "source": [
    "print(np.max((all_spark).photons_in_range(1, 2.5)))"
   ]
  },
  {
   "cell_type": "markdown",
   "metadata": {},
   "source": [
    "# simcado.run!"
   ]
  },
  {
   "cell_type": "code",
   "execution_count": 18,
   "metadata": {
    "collapsed": false
   },
   "outputs": [
    {
     "name": "stdout",
     "output_type": "stream",
     "text": [
      "Detector layout\n",
      " id x_cen y_cen x_len y_len gain\n",
      "--- ----- ----- ----- ----- ----\n",
      "  0     0     0  1024  1024  1.0\n",
      "Creating 1 layer(s) per chip\n",
      "1 chip(s) will be simulated\n",
      "Generating image for chip 0\n",
      "Reading out chip 0\n",
      "Detector layout\n",
      " id x_cen y_cen x_len y_len gain\n",
      "--- ----- ----- ----- ----- ----\n",
      "  0     0     0  1024  1024  1.0\n",
      "Creating 1 layer(s) per chip\n",
      "1 chip(s) will be simulated\n",
      "Generating image for chip 0\n",
      "Reading out chip 0\n",
      "Detector layout\n",
      " id x_cen y_cen x_len y_len gain\n",
      "--- ----- ----- ----- ----- ----\n",
      "  0     0     0  1024  1024  1.0\n",
      "Creating 5 layer(s) per chip\n",
      "1 chip(s) will be simulated\n",
      "Generating image for chip 0\n",
      "Reading out chip 0\n"
     ]
    }
   ],
   "source": [
    "all_spark = bg_galaxies + combi + bg_stars\n",
    "cmd[\"INST_FILTER_TC\"] = \"Ks\"\n",
    "hdu = simcado.run(all_spark, cmds=cmd, filename=\"ant_Ks.fits\")\n",
    "\n",
    "all_spark = bg_galaxies + combi + bg_stars\n",
    "cmd[\"INST_FILTER_TC\"] = \"J\"\n",
    "hdu = simcado.run(all_spark, cmds=cmd, filename=\"ant_J.fits\")\n",
    "\n",
    "all_spark = bg_galaxies + combi + bg_stars\n",
    "cmd[\"INST_FILTER_TC\"] = \"PaBeta\"\n",
    "hdu = simcado.run(all_spark, cmds=cmd, filename=\"ant_PaBeta.fits\")"
   ]
  },
  {
   "cell_type": "code",
   "execution_count": null,
   "metadata": {
    "collapsed": true
   },
   "outputs": [],
   "source": []
  }
 ],
 "metadata": {
  "kernelspec": {
   "display_name": "Python [default]",
   "language": "python",
   "name": "python3"
  },
  "language_info": {
   "codemirror_mode": {
    "name": "ipython",
    "version": 3
   },
   "file_extension": ".py",
   "mimetype": "text/x-python",
   "name": "python",
   "nbconvert_exporter": "python",
   "pygments_lexer": "ipython3",
   "version": "3.5.2"
  }
 },
 "nbformat": 4,
 "nbformat_minor": 1
}
